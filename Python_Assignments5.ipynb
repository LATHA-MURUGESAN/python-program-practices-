{
  "nbformat": 4,
  "nbformat_minor": 0,
  "metadata": {
    "colab": {
      "provenance": []
    },
    "kernelspec": {
      "name": "python3",
      "display_name": "Python 3"
    },
    "language_info": {
      "name": "python"
    }
  },
  "cells": [
    {
      "cell_type": "code",
      "execution_count": null,
      "metadata": {
        "id": "jvPiiB_Zk806"
      },
      "outputs": [],
      "source": [
        "\"\"\"\n",
        "\n",
        "MODULE 5 LOOPS and Functions\n",
        "Please implement Python coding for all the problems.\n",
        "\n",
        "1.\tA) list1=[1,5.5,(10+20j),’data science’].. Print default functions and parameters exists in list1.\n",
        "B) How do we create a sequence of numbers in Python.\n",
        "C)  Read the input from keyboard and print a sequence of numbers up to that number\n",
        "\n",
        "2.\tCreate 2 lists.. one list contains 10 numbers (list1=[0,1,2,3....9]) and other \n",
        "list contains words of those 10 numbers (list2=['zero','one','two',.... ,'nine']).\n",
        " Create a dictionary such that list2 are keys and list 1 are values..\n",
        "\n",
        "3.\t Consider a list1 [3,4,5,6,7,8]. Create a new list2 such that Add 10 to the even number and multiply with 5 if it is odd number in the list1..\n",
        "\n",
        "       4.     Write a simple user defined function that greets a person in such a way that :\n",
        "             i) It should accept both name of person and message you want to deliver.\n",
        "              ii) If no message is provided, it should greet a default message ‘How are you’\n",
        "           Ex: Hello ---xxxx---, How are you  - default message.\n",
        "            Ex: Hello ---xxxx---, --xx your message xx---\n",
        "\n",
        "\n",
        "\"\"\""
      ]
    },
    {
      "cell_type": "markdown",
      "source": [
        "list1=[1,5.5,(10+20j),’data science’].. Print default functions and parameters exists in list1."
      ],
      "metadata": {
        "id": "zQSxCjuqlFs8"
      }
    },
    {
      "cell_type": "code",
      "source": [
        "list1=[1,5.5,(10+20j),'data science']\n",
        "list1.append(20)\n",
        "print(list1)\n",
        "list1.insert(3,'India')\n",
        "print(list1)\n",
        "print( 5 in list1)\n",
        "\n"
      ],
      "metadata": {
        "colab": {
          "base_uri": "https://localhost:8080/"
        },
        "id": "VczT3V6NlE9l",
        "outputId": "52773808-3c14-4020-bfbd-57ae7f704e3d"
      },
      "execution_count": 8,
      "outputs": [
        {
          "output_type": "stream",
          "name": "stdout",
          "text": [
            "[1, 5.5, (10+20j), 'data science', 20]\n",
            "[1, 5.5, (10+20j), 'India', 'data science', 20]\n",
            "False\n"
          ]
        }
      ]
    },
    {
      "cell_type": "markdown",
      "source": [
        "How do we create a sequence of numbers in Python.\n",
        "C)  Read the input from keyboard and print a sequence of numbers up to that number"
      ],
      "metadata": {
        "id": "TN9MyZz1oMK-"
      }
    },
    {
      "cell_type": "code",
      "source": [
        "for i in range(10):\n",
        "  print(i)\n",
        "\n"
      ],
      "metadata": {
        "colab": {
          "base_uri": "https://localhost:8080/"
        },
        "id": "BAEj9NCxoQN9",
        "outputId": "d50a5d3a-57d3-4dd4-f5b7-f95afc1b5f30"
      },
      "execution_count": 10,
      "outputs": [
        {
          "output_type": "stream",
          "name": "stdout",
          "text": [
            "0\n",
            "1\n",
            "2\n",
            "3\n",
            "4\n",
            "5\n",
            "6\n",
            "7\n",
            "8\n",
            "9\n"
          ]
        }
      ]
    },
    {
      "cell_type": "code",
      "source": [
        "n=int(input(\"Enter the value for n:\"))\n",
        "i=0\n",
        "while(i<=n):\n",
        "  print(i)\n",
        "  i=i+1\n"
      ],
      "metadata": {
        "colab": {
          "base_uri": "https://localhost:8080/"
        },
        "id": "cKAa1zK9okGK",
        "outputId": "c7c53b43-8058-493f-853a-074fdbf170d0"
      },
      "execution_count": 17,
      "outputs": [
        {
          "output_type": "stream",
          "name": "stdout",
          "text": [
            "Enter the value for n:5\n",
            "0\n",
            "1\n",
            "2\n",
            "3\n",
            "4\n",
            "5\n"
          ]
        }
      ]
    },
    {
      "cell_type": "markdown",
      "source": [
        "2.\tCreate 2 lists.. one list contains 10 numbers (list1=[0,1,2,3....9]) and other \n",
        "list contains words of those 10 numbers (list2=['zero','one','two',.... ,'nine']).\n",
        " Create a dictionary such that list2 are keys and list 1 are values.."
      ],
      "metadata": {
        "id": "D-QETastrGrj"
      }
    },
    {
      "cell_type": "code",
      "source": [
        "l1=range(10)\n",
        "l2=['zero','one','two','three','four','five','six','seven','eight','nine']\n",
        "mydict={}\n",
        "for key in l1:\n",
        "  for value in l2:\n",
        "    mydict[key]=value\n",
        "    l2.remove(value)\n",
        "    break\n",
        "print(\"Dictionary is:\",mydict)\n",
        "\n",
        "#or\n",
        "l1=range(10)\n",
        "l2=['zero','one','two','three','four','five','six','seven','eight','nine']\n",
        "dict = {l1[i]: l2[i] for i in range(len(l1))}\n",
        "print(dict)\n",
        "\n",
        "#OR\n",
        "\n",
        "l1=range(10)\n",
        "l2=['zero','one','two','three','four','five','six','seven','eight','nine']\n",
        "d=zip(l1,l2)\n",
        "print(list(d))"
      ],
      "metadata": {
        "colab": {
          "base_uri": "https://localhost:8080/"
        },
        "id": "7DSGka5brHg6",
        "outputId": "111594e8-242f-4db6-f66c-80b510789ed8"
      },
      "execution_count": 33,
      "outputs": [
        {
          "output_type": "stream",
          "name": "stdout",
          "text": [
            "Dictionary is: {0: 'zero', 1: 'one', 2: 'two', 3: 'three', 4: 'four', 5: 'five', 6: 'six', 7: 'seven', 8: 'eight', 9: 'nine'}\n",
            "{0: 'zero', 1: 'one', 2: 'two', 3: 'three', 4: 'four', 5: 'five', 6: 'six', 7: 'seven', 8: 'eight', 9: 'nine'}\n",
            "[(0, 'zero'), (1, 'one'), (2, 'two'), (3, 'three'), (4, 'four'), (5, 'five'), (6, 'six'), (7, 'seven'), (8, 'eight'), (9, 'nine')]\n"
          ]
        }
      ]
    },
    {
      "cell_type": "code",
      "source": [
        "#Consider a list1 [3,4,5,6,7,8]. Create a new list2 such that Add 10 to the even number and multiply with 5 if it is odd number in the list1..\n",
        "   "
      ],
      "metadata": {
        "id": "Z9FPnL5ox0cP"
      },
      "execution_count": 45,
      "outputs": []
    },
    {
      "cell_type": "code",
      "source": [
        "l1=[3,4,5,6,7,8]\n",
        "for i in l1:\n",
        "  if(i%2==0):\n",
        "    print(i+10)\n",
        "  else:\n",
        "    print(i*5)"
      ],
      "metadata": {
        "colab": {
          "base_uri": "https://localhost:8080/"
        },
        "id": "HhnnMJqGztew",
        "outputId": "51a92264-5227-4e36-eebf-1e0282b1e08a"
      },
      "execution_count": 44,
      "outputs": [
        {
          "output_type": "stream",
          "name": "stdout",
          "text": [
            "15\n",
            "14\n",
            "25\n",
            "16\n",
            "35\n",
            "18\n"
          ]
        }
      ]
    },
    {
      "cell_type": "code",
      "source": [
        "Write a simple user defined function that greets a person in such a way that :\n",
        "             i) It should accept both name of person and message you want to deliver.\n",
        "              ii) If no message is provided, it should greet a default message ‘How are you’\n",
        "           Ex: Hello ---xxxx---, How are you  - default message.\n",
        "            Ex: Hello ---xxxx---, --xx your message xx---"
      ],
      "metadata": {
        "id": "XgpY6cJc1EiA"
      },
      "execution_count": null,
      "outputs": []
    },
    {
      "cell_type": "code",
      "source": [
        "def greet(nme):\n",
        "  print(\"Hello {n},How are you\".format(n=nme))\n",
        "\n",
        "nme=input(\"Enter the name:\")\n",
        "msg=input(\"Enter the msg:\")\n",
        "greet('latha')\n",
        "def greet(nme,msg):\n",
        "  print(\"Hello {n},How are you {g}\".format(n=nme,g=msg))\n",
        "greet(nme,msg)\n"
      ],
      "metadata": {
        "colab": {
          "base_uri": "https://localhost:8080/"
        },
        "id": "OjVmLMGO0z_S",
        "outputId": "0e7bcdb5-4242-4804-a7df-c81ea7dbe434"
      },
      "execution_count": 59,
      "outputs": [
        {
          "output_type": "stream",
          "name": "stdout",
          "text": [
            "Enter the name:rani\n",
            "Enter the msg:good\n",
            "Hello latha,How are you\n",
            "Hello rani,How are you good\n"
          ]
        }
      ]
    },
    {
      "cell_type": "code",
      "source": [],
      "metadata": {
        "id": "k51gHCji5NU2"
      },
      "execution_count": null,
      "outputs": []
    }
  ]
}