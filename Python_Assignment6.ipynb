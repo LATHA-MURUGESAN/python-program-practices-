{
  "nbformat": 4,
  "nbformat_minor": 0,
  "metadata": {
    "colab": {
      "provenance": []
    },
    "kernelspec": {
      "name": "python3",
      "display_name": "Python 3"
    },
    "language_info": {
      "name": "python"
    }
  },
  "cells": [
    {
      "cell_type": "code",
      "execution_count": 1,
      "metadata": {
        "id": "t9MnuVz88uOM"
      },
      "outputs": [],
      "source": [
        "import pandas as pd\n",
        "import numpy as np\n"
      ]
    },
    {
      "cell_type": "code",
      "source": [
        "df=pd.read_csv('/content/Indian_cities.csv')"
      ],
      "metadata": {
        "id": "4g_GQc528748"
      },
      "execution_count": 2,
      "outputs": []
    },
    {
      "cell_type": "code",
      "source": [
        "df.dtypes"
      ],
      "metadata": {
        "colab": {
          "base_uri": "https://localhost:8080/"
        },
        "id": "LigF9aSw9GXR",
        "outputId": "cb8038cc-02d5-4129-fbaf-f9706ea0bf5f"
      },
      "execution_count": 3,
      "outputs": [
        {
          "output_type": "execute_result",
          "data": {
            "text/plain": [
              "name_of_city                       object\n",
              "state_code                          int64\n",
              "state_name                         object\n",
              "dist_code                           int64\n",
              "population_total                    int64\n",
              "population_male                     int64\n",
              "population_female                   int64\n",
              "0-6_population_total                int64\n",
              "0-6_population_male                 int64\n",
              "0-6_population_female               int64\n",
              "literates_total                     int64\n",
              "literates_male                      int64\n",
              "literates_female                    int64\n",
              "sex_ratio                           int64\n",
              "child_sex_ratio                     int64\n",
              "effective_literacy_rate_total     float64\n",
              "effective_literacy_rate_male      float64\n",
              "effective_literacy_rate_female    float64\n",
              "location                           object\n",
              "total_graduates                     int64\n",
              "male_graduates                      int64\n",
              "female_graduates                    int64\n",
              "dtype: object"
            ]
          },
          "metadata": {},
          "execution_count": 3
        }
      ]
    },
    {
      "cell_type": "code",
      "source": [
        "df.shape"
      ],
      "metadata": {
        "colab": {
          "base_uri": "https://localhost:8080/"
        },
        "id": "arqR8zuO9JBS",
        "outputId": "c27c227c-07a7-4677-9d85-5551107a5e7c"
      },
      "execution_count": 4,
      "outputs": [
        {
          "output_type": "execute_result",
          "data": {
            "text/plain": [
              "(493, 22)"
            ]
          },
          "metadata": {},
          "execution_count": 4
        }
      ]
    },
    {
      "cell_type": "code",
      "source": [
        "df.info()"
      ],
      "metadata": {
        "colab": {
          "base_uri": "https://localhost:8080/"
        },
        "id": "EvXk8ZS_9Lhp",
        "outputId": "fc8d553a-8892-47af-d34e-f4933265f76b"
      },
      "execution_count": 5,
      "outputs": [
        {
          "output_type": "stream",
          "name": "stdout",
          "text": [
            "<class 'pandas.core.frame.DataFrame'>\n",
            "RangeIndex: 493 entries, 0 to 492\n",
            "Data columns (total 22 columns):\n",
            " #   Column                          Non-Null Count  Dtype  \n",
            "---  ------                          --------------  -----  \n",
            " 0   name_of_city                    493 non-null    object \n",
            " 1   state_code                      493 non-null    int64  \n",
            " 2   state_name                      493 non-null    object \n",
            " 3   dist_code                       493 non-null    int64  \n",
            " 4   population_total                493 non-null    int64  \n",
            " 5   population_male                 493 non-null    int64  \n",
            " 6   population_female               493 non-null    int64  \n",
            " 7   0-6_population_total            493 non-null    int64  \n",
            " 8   0-6_population_male             493 non-null    int64  \n",
            " 9   0-6_population_female           493 non-null    int64  \n",
            " 10  literates_total                 493 non-null    int64  \n",
            " 11  literates_male                  493 non-null    int64  \n",
            " 12  literates_female                493 non-null    int64  \n",
            " 13  sex_ratio                       493 non-null    int64  \n",
            " 14  child_sex_ratio                 493 non-null    int64  \n",
            " 15  effective_literacy_rate_total   493 non-null    float64\n",
            " 16  effective_literacy_rate_male    493 non-null    float64\n",
            " 17  effective_literacy_rate_female  493 non-null    float64\n",
            " 18  location                        493 non-null    object \n",
            " 19  total_graduates                 493 non-null    int64  \n",
            " 20  male_graduates                  493 non-null    int64  \n",
            " 21  female_graduates                493 non-null    int64  \n",
            "dtypes: float64(3), int64(16), object(3)\n",
            "memory usage: 84.9+ KB\n"
          ]
        }
      ]
    },
    {
      "cell_type": "code",
      "source": [
        "df.describe()"
      ],
      "metadata": {
        "colab": {
          "base_uri": "https://localhost:8080/",
          "height": 382
        },
        "id": "rMmdT4l09Sy2",
        "outputId": "86d24dd9-6b59-46b0-e307-84193a9481c2"
      },
      "execution_count": 6,
      "outputs": [
        {
          "output_type": "execute_result",
          "data": {
            "text/plain": [
              "       state_code   dist_code  population_total  population_male  \\\n",
              "count  493.000000  493.000000      4.930000e+02     4.930000e+02   \n",
              "mean    18.643002   16.782961      4.481124e+05     2.343468e+05   \n",
              "std      9.297168   15.566131      1.033228e+06     5.487786e+05   \n",
              "min      1.000000    1.000000      1.000360e+05     5.020100e+04   \n",
              "25%      9.000000    7.000000      1.261420e+05     6.638400e+04   \n",
              "50%     19.000000   13.000000      1.841330e+05     9.665500e+04   \n",
              "75%     27.000000   21.000000      3.490330e+05     1.750550e+05   \n",
              "max     35.000000   99.000000      1.247845e+07     6.736815e+06   \n",
              "\n",
              "       population_female  0-6_population_total  0-6_population_male  \\\n",
              "count       4.930000e+02          4.930000e+02           493.000000   \n",
              "mean        2.137656e+05          4.709285e+04         24849.527383   \n",
              "std         4.848622e+05          1.050279e+05         55535.310272   \n",
              "min         4.512600e+04          6.547000e+03          3406.000000   \n",
              "25%         6.041100e+04          1.363900e+04          7221.000000   \n",
              "50%         8.776800e+04          1.944000e+04         10342.000000   \n",
              "75%         1.700260e+05          3.794500e+04         19982.000000   \n",
              "max         5.741632e+06          1.209275e+06        647938.000000   \n",
              "\n",
              "       0-6_population_female  literates_total  literates_male  \\\n",
              "count             493.000000     4.930000e+02    4.930000e+02   \n",
              "mean            22243.320487     3.461527e+05    1.894384e+05   \n",
              "std             49523.241379     8.220952e+05    4.534753e+05   \n",
              "min              3107.000000     5.699800e+04    3.475100e+04   \n",
              "25%              6457.000000     9.768700e+04    5.357800e+04   \n",
              "50%              9172.000000     1.413290e+05    7.590600e+04   \n",
              "75%             17954.000000     2.679000e+05    1.455480e+05   \n",
              "max            561337.000000     1.023759e+07    5.727774e+06   \n",
              "\n",
              "       literates_female    sex_ratio  child_sex_ratio  \\\n",
              "count      4.930000e+02   493.000000       493.000000   \n",
              "mean       1.567143e+05   930.294118       902.332657   \n",
              "std        3.690677e+05    55.849106        49.794689   \n",
              "min        2.224700e+04   700.000000       762.000000   \n",
              "25%        4.391400e+04   890.000000       868.000000   \n",
              "50%        6.383600e+04   922.000000       903.000000   \n",
              "75%        1.235030e+05   971.000000       942.000000   \n",
              "max        4.509812e+06  1093.000000      1185.000000   \n",
              "\n",
              "       effective_literacy_rate_total  effective_literacy_rate_male  \\\n",
              "count                     493.000000                    493.000000   \n",
              "mean                       85.131460                     89.920162   \n",
              "std                         6.186345                      5.377492   \n",
              "min                        49.510000                     52.270000   \n",
              "25%                        81.750000                     87.280000   \n",
              "50%                        85.970000                     91.180000   \n",
              "75%                        89.330000                     93.400000   \n",
              "max                        98.800000                     99.300000   \n",
              "\n",
              "       effective_literacy_rate_female  total_graduates  male_graduates  \\\n",
              "count                      493.000000     4.930000e+02    4.930000e+02   \n",
              "mean                        79.967181     6.620236e+04    3.771556e+04   \n",
              "std                          7.577825     1.778187e+05    9.849574e+04   \n",
              "min                         46.450000     2.532000e+03    1.703000e+03   \n",
              "25%                         75.800000     1.527700e+04    9.289000e+03   \n",
              "50%                         80.920000     2.395900e+04    1.404900e+04   \n",
              "75%                         85.400000     5.036700e+04    2.787200e+04   \n",
              "max                         98.310000     2.221137e+06    1.210040e+06   \n",
              "\n",
              "       female_graduates  \n",
              "count      4.930000e+02  \n",
              "mean       2.848680e+04  \n",
              "std        7.951556e+04  \n",
              "min        8.290000e+02  \n",
              "25%        6.114000e+03  \n",
              "50%        9.558000e+03  \n",
              "75%        2.086600e+04  \n",
              "max        1.011097e+06  "
            ],
            "text/html": [
              "\n",
              "  <div id=\"df-25f7d4cd-13e4-4580-89e3-c835ea32fcfa\">\n",
              "    <div class=\"colab-df-container\">\n",
              "      <div>\n",
              "<style scoped>\n",
              "    .dataframe tbody tr th:only-of-type {\n",
              "        vertical-align: middle;\n",
              "    }\n",
              "\n",
              "    .dataframe tbody tr th {\n",
              "        vertical-align: top;\n",
              "    }\n",
              "\n",
              "    .dataframe thead th {\n",
              "        text-align: right;\n",
              "    }\n",
              "</style>\n",
              "<table border=\"1\" class=\"dataframe\">\n",
              "  <thead>\n",
              "    <tr style=\"text-align: right;\">\n",
              "      <th></th>\n",
              "      <th>state_code</th>\n",
              "      <th>dist_code</th>\n",
              "      <th>population_total</th>\n",
              "      <th>population_male</th>\n",
              "      <th>population_female</th>\n",
              "      <th>0-6_population_total</th>\n",
              "      <th>0-6_population_male</th>\n",
              "      <th>0-6_population_female</th>\n",
              "      <th>literates_total</th>\n",
              "      <th>literates_male</th>\n",
              "      <th>literates_female</th>\n",
              "      <th>sex_ratio</th>\n",
              "      <th>child_sex_ratio</th>\n",
              "      <th>effective_literacy_rate_total</th>\n",
              "      <th>effective_literacy_rate_male</th>\n",
              "      <th>effective_literacy_rate_female</th>\n",
              "      <th>total_graduates</th>\n",
              "      <th>male_graduates</th>\n",
              "      <th>female_graduates</th>\n",
              "    </tr>\n",
              "  </thead>\n",
              "  <tbody>\n",
              "    <tr>\n",
              "      <th>count</th>\n",
              "      <td>493.000000</td>\n",
              "      <td>493.000000</td>\n",
              "      <td>4.930000e+02</td>\n",
              "      <td>4.930000e+02</td>\n",
              "      <td>4.930000e+02</td>\n",
              "      <td>4.930000e+02</td>\n",
              "      <td>493.000000</td>\n",
              "      <td>493.000000</td>\n",
              "      <td>4.930000e+02</td>\n",
              "      <td>4.930000e+02</td>\n",
              "      <td>4.930000e+02</td>\n",
              "      <td>493.000000</td>\n",
              "      <td>493.000000</td>\n",
              "      <td>493.000000</td>\n",
              "      <td>493.000000</td>\n",
              "      <td>493.000000</td>\n",
              "      <td>4.930000e+02</td>\n",
              "      <td>4.930000e+02</td>\n",
              "      <td>4.930000e+02</td>\n",
              "    </tr>\n",
              "    <tr>\n",
              "      <th>mean</th>\n",
              "      <td>18.643002</td>\n",
              "      <td>16.782961</td>\n",
              "      <td>4.481124e+05</td>\n",
              "      <td>2.343468e+05</td>\n",
              "      <td>2.137656e+05</td>\n",
              "      <td>4.709285e+04</td>\n",
              "      <td>24849.527383</td>\n",
              "      <td>22243.320487</td>\n",
              "      <td>3.461527e+05</td>\n",
              "      <td>1.894384e+05</td>\n",
              "      <td>1.567143e+05</td>\n",
              "      <td>930.294118</td>\n",
              "      <td>902.332657</td>\n",
              "      <td>85.131460</td>\n",
              "      <td>89.920162</td>\n",
              "      <td>79.967181</td>\n",
              "      <td>6.620236e+04</td>\n",
              "      <td>3.771556e+04</td>\n",
              "      <td>2.848680e+04</td>\n",
              "    </tr>\n",
              "    <tr>\n",
              "      <th>std</th>\n",
              "      <td>9.297168</td>\n",
              "      <td>15.566131</td>\n",
              "      <td>1.033228e+06</td>\n",
              "      <td>5.487786e+05</td>\n",
              "      <td>4.848622e+05</td>\n",
              "      <td>1.050279e+05</td>\n",
              "      <td>55535.310272</td>\n",
              "      <td>49523.241379</td>\n",
              "      <td>8.220952e+05</td>\n",
              "      <td>4.534753e+05</td>\n",
              "      <td>3.690677e+05</td>\n",
              "      <td>55.849106</td>\n",
              "      <td>49.794689</td>\n",
              "      <td>6.186345</td>\n",
              "      <td>5.377492</td>\n",
              "      <td>7.577825</td>\n",
              "      <td>1.778187e+05</td>\n",
              "      <td>9.849574e+04</td>\n",
              "      <td>7.951556e+04</td>\n",
              "    </tr>\n",
              "    <tr>\n",
              "      <th>min</th>\n",
              "      <td>1.000000</td>\n",
              "      <td>1.000000</td>\n",
              "      <td>1.000360e+05</td>\n",
              "      <td>5.020100e+04</td>\n",
              "      <td>4.512600e+04</td>\n",
              "      <td>6.547000e+03</td>\n",
              "      <td>3406.000000</td>\n",
              "      <td>3107.000000</td>\n",
              "      <td>5.699800e+04</td>\n",
              "      <td>3.475100e+04</td>\n",
              "      <td>2.224700e+04</td>\n",
              "      <td>700.000000</td>\n",
              "      <td>762.000000</td>\n",
              "      <td>49.510000</td>\n",
              "      <td>52.270000</td>\n",
              "      <td>46.450000</td>\n",
              "      <td>2.532000e+03</td>\n",
              "      <td>1.703000e+03</td>\n",
              "      <td>8.290000e+02</td>\n",
              "    </tr>\n",
              "    <tr>\n",
              "      <th>25%</th>\n",
              "      <td>9.000000</td>\n",
              "      <td>7.000000</td>\n",
              "      <td>1.261420e+05</td>\n",
              "      <td>6.638400e+04</td>\n",
              "      <td>6.041100e+04</td>\n",
              "      <td>1.363900e+04</td>\n",
              "      <td>7221.000000</td>\n",
              "      <td>6457.000000</td>\n",
              "      <td>9.768700e+04</td>\n",
              "      <td>5.357800e+04</td>\n",
              "      <td>4.391400e+04</td>\n",
              "      <td>890.000000</td>\n",
              "      <td>868.000000</td>\n",
              "      <td>81.750000</td>\n",
              "      <td>87.280000</td>\n",
              "      <td>75.800000</td>\n",
              "      <td>1.527700e+04</td>\n",
              "      <td>9.289000e+03</td>\n",
              "      <td>6.114000e+03</td>\n",
              "    </tr>\n",
              "    <tr>\n",
              "      <th>50%</th>\n",
              "      <td>19.000000</td>\n",
              "      <td>13.000000</td>\n",
              "      <td>1.841330e+05</td>\n",
              "      <td>9.665500e+04</td>\n",
              "      <td>8.776800e+04</td>\n",
              "      <td>1.944000e+04</td>\n",
              "      <td>10342.000000</td>\n",
              "      <td>9172.000000</td>\n",
              "      <td>1.413290e+05</td>\n",
              "      <td>7.590600e+04</td>\n",
              "      <td>6.383600e+04</td>\n",
              "      <td>922.000000</td>\n",
              "      <td>903.000000</td>\n",
              "      <td>85.970000</td>\n",
              "      <td>91.180000</td>\n",
              "      <td>80.920000</td>\n",
              "      <td>2.395900e+04</td>\n",
              "      <td>1.404900e+04</td>\n",
              "      <td>9.558000e+03</td>\n",
              "    </tr>\n",
              "    <tr>\n",
              "      <th>75%</th>\n",
              "      <td>27.000000</td>\n",
              "      <td>21.000000</td>\n",
              "      <td>3.490330e+05</td>\n",
              "      <td>1.750550e+05</td>\n",
              "      <td>1.700260e+05</td>\n",
              "      <td>3.794500e+04</td>\n",
              "      <td>19982.000000</td>\n",
              "      <td>17954.000000</td>\n",
              "      <td>2.679000e+05</td>\n",
              "      <td>1.455480e+05</td>\n",
              "      <td>1.235030e+05</td>\n",
              "      <td>971.000000</td>\n",
              "      <td>942.000000</td>\n",
              "      <td>89.330000</td>\n",
              "      <td>93.400000</td>\n",
              "      <td>85.400000</td>\n",
              "      <td>5.036700e+04</td>\n",
              "      <td>2.787200e+04</td>\n",
              "      <td>2.086600e+04</td>\n",
              "    </tr>\n",
              "    <tr>\n",
              "      <th>max</th>\n",
              "      <td>35.000000</td>\n",
              "      <td>99.000000</td>\n",
              "      <td>1.247845e+07</td>\n",
              "      <td>6.736815e+06</td>\n",
              "      <td>5.741632e+06</td>\n",
              "      <td>1.209275e+06</td>\n",
              "      <td>647938.000000</td>\n",
              "      <td>561337.000000</td>\n",
              "      <td>1.023759e+07</td>\n",
              "      <td>5.727774e+06</td>\n",
              "      <td>4.509812e+06</td>\n",
              "      <td>1093.000000</td>\n",
              "      <td>1185.000000</td>\n",
              "      <td>98.800000</td>\n",
              "      <td>99.300000</td>\n",
              "      <td>98.310000</td>\n",
              "      <td>2.221137e+06</td>\n",
              "      <td>1.210040e+06</td>\n",
              "      <td>1.011097e+06</td>\n",
              "    </tr>\n",
              "  </tbody>\n",
              "</table>\n",
              "</div>\n",
              "      <button class=\"colab-df-convert\" onclick=\"convertToInteractive('df-25f7d4cd-13e4-4580-89e3-c835ea32fcfa')\"\n",
              "              title=\"Convert this dataframe to an interactive table.\"\n",
              "              style=\"display:none;\">\n",
              "        \n",
              "  <svg xmlns=\"http://www.w3.org/2000/svg\" height=\"24px\"viewBox=\"0 0 24 24\"\n",
              "       width=\"24px\">\n",
              "    <path d=\"M0 0h24v24H0V0z\" fill=\"none\"/>\n",
              "    <path d=\"M18.56 5.44l.94 2.06.94-2.06 2.06-.94-2.06-.94-.94-2.06-.94 2.06-2.06.94zm-11 1L8.5 8.5l.94-2.06 2.06-.94-2.06-.94L8.5 2.5l-.94 2.06-2.06.94zm10 10l.94 2.06.94-2.06 2.06-.94-2.06-.94-.94-2.06-.94 2.06-2.06.94z\"/><path d=\"M17.41 7.96l-1.37-1.37c-.4-.4-.92-.59-1.43-.59-.52 0-1.04.2-1.43.59L10.3 9.45l-7.72 7.72c-.78.78-.78 2.05 0 2.83L4 21.41c.39.39.9.59 1.41.59.51 0 1.02-.2 1.41-.59l7.78-7.78 2.81-2.81c.8-.78.8-2.07 0-2.86zM5.41 20L4 18.59l7.72-7.72 1.47 1.35L5.41 20z\"/>\n",
              "  </svg>\n",
              "      </button>\n",
              "      \n",
              "  <style>\n",
              "    .colab-df-container {\n",
              "      display:flex;\n",
              "      flex-wrap:wrap;\n",
              "      gap: 12px;\n",
              "    }\n",
              "\n",
              "    .colab-df-convert {\n",
              "      background-color: #E8F0FE;\n",
              "      border: none;\n",
              "      border-radius: 50%;\n",
              "      cursor: pointer;\n",
              "      display: none;\n",
              "      fill: #1967D2;\n",
              "      height: 32px;\n",
              "      padding: 0 0 0 0;\n",
              "      width: 32px;\n",
              "    }\n",
              "\n",
              "    .colab-df-convert:hover {\n",
              "      background-color: #E2EBFA;\n",
              "      box-shadow: 0px 1px 2px rgba(60, 64, 67, 0.3), 0px 1px 3px 1px rgba(60, 64, 67, 0.15);\n",
              "      fill: #174EA6;\n",
              "    }\n",
              "\n",
              "    [theme=dark] .colab-df-convert {\n",
              "      background-color: #3B4455;\n",
              "      fill: #D2E3FC;\n",
              "    }\n",
              "\n",
              "    [theme=dark] .colab-df-convert:hover {\n",
              "      background-color: #434B5C;\n",
              "      box-shadow: 0px 1px 3px 1px rgba(0, 0, 0, 0.15);\n",
              "      filter: drop-shadow(0px 1px 2px rgba(0, 0, 0, 0.3));\n",
              "      fill: #FFFFFF;\n",
              "    }\n",
              "  </style>\n",
              "\n",
              "      <script>\n",
              "        const buttonEl =\n",
              "          document.querySelector('#df-25f7d4cd-13e4-4580-89e3-c835ea32fcfa button.colab-df-convert');\n",
              "        buttonEl.style.display =\n",
              "          google.colab.kernel.accessAllowed ? 'block' : 'none';\n",
              "\n",
              "        async function convertToInteractive(key) {\n",
              "          const element = document.querySelector('#df-25f7d4cd-13e4-4580-89e3-c835ea32fcfa');\n",
              "          const dataTable =\n",
              "            await google.colab.kernel.invokeFunction('convertToInteractive',\n",
              "                                                     [key], {});\n",
              "          if (!dataTable) return;\n",
              "\n",
              "          const docLinkHtml = 'Like what you see? Visit the ' +\n",
              "            '<a target=\"_blank\" href=https://colab.research.google.com/notebooks/data_table.ipynb>data table notebook</a>'\n",
              "            + ' to learn more about interactive tables.';\n",
              "          element.innerHTML = '';\n",
              "          dataTable['output_type'] = 'display_data';\n",
              "          await google.colab.output.renderOutput(dataTable, element);\n",
              "          const docLink = document.createElement('div');\n",
              "          docLink.innerHTML = docLinkHtml;\n",
              "          element.appendChild(docLink);\n",
              "        }\n",
              "      </script>\n",
              "    </div>\n",
              "  </div>\n",
              "  "
            ]
          },
          "metadata": {},
          "execution_count": 6
        }
      ]
    },
    {
      "cell_type": "code",
      "source": [
        "\"\"\"\n",
        "a)\tFind out top 10 states in female-male sex ratio\n",
        "b)\tFind out top 10 cities in total number of graduates\n",
        "c)\tFind out top 10 cities and their locations in respect of  total effective_literacy_rate.\n",
        "\n",
        "\"\"\""
      ],
      "metadata": {
        "id": "33lQHuC_9dBc",
        "colab": {
          "base_uri": "https://localhost:8080/",
          "height": 53
        },
        "outputId": "e254f50e-2991-4587-f150-da33d25a6b32"
      },
      "execution_count": 7,
      "outputs": [
        {
          "output_type": "execute_result",
          "data": {
            "text/plain": [
              "'\\na)\\tFind out top 10 states in female-male sex ratio\\nb)\\tFind out top 10 cities in total number of graduates\\nc)\\tFind out top 10 cities and their locations in respect of  total effective_literacy_rate.\\n\\n'"
            ],
            "application/vnd.google.colaboratory.intrinsic+json": {
              "type": "string"
            }
          },
          "metadata": {},
          "execution_count": 7
        }
      ]
    },
    {
      "cell_type": "code",
      "source": [
        "df.columns"
      ],
      "metadata": {
        "colab": {
          "base_uri": "https://localhost:8080/"
        },
        "id": "sEm254Ee9hpe",
        "outputId": "4c7f8a7d-aae6-4bee-eac2-24c2729cc4e6"
      },
      "execution_count": 8,
      "outputs": [
        {
          "output_type": "execute_result",
          "data": {
            "text/plain": [
              "Index(['name_of_city', 'state_code', 'state_name', 'dist_code',\n",
              "       'population_total', 'population_male', 'population_female',\n",
              "       '0-6_population_total', '0-6_population_male', '0-6_population_female',\n",
              "       'literates_total', 'literates_male', 'literates_female', 'sex_ratio',\n",
              "       'child_sex_ratio', 'effective_literacy_rate_total',\n",
              "       'effective_literacy_rate_male', 'effective_literacy_rate_female',\n",
              "       'location', 'total_graduates', 'male_graduates', 'female_graduates'],\n",
              "      dtype='object')"
            ]
          },
          "metadata": {},
          "execution_count": 8
        }
      ]
    },
    {
      "cell_type": "code",
      "source": [
        "df['population_female']>df['population_male']"
      ],
      "metadata": {
        "colab": {
          "base_uri": "https://localhost:8080/"
        },
        "id": "G2MZtKGwBfve",
        "outputId": "35872942-95bb-4bfd-da15-55b9911bf07a"
      },
      "execution_count": 9,
      "outputs": [
        {
          "output_type": "execute_result",
          "data": {
            "text/plain": [
              "0      False\n",
              "1      False\n",
              "2      False\n",
              "3      False\n",
              "4       True\n",
              "       ...  \n",
              "488     True\n",
              "489    False\n",
              "490    False\n",
              "491    False\n",
              "492    False\n",
              "Length: 493, dtype: bool"
            ]
          },
          "metadata": {},
          "execution_count": 9
        }
      ]
    },
    {
      "cell_type": "code",
      "source": [
        "ratio=df.loc[df['population_female']>df['population_male']].head(10)"
      ],
      "metadata": {
        "id": "hCA4dNut9p6W"
      },
      "execution_count": 14,
      "outputs": []
    },
    {
      "cell_type": "code",
      "source": [
        "ratio['state_name']\n"
      ],
      "metadata": {
        "colab": {
          "base_uri": "https://localhost:8080/"
        },
        "id": "090IHKGYChIv",
        "outputId": "826f445d-87af-4373-ba43-6b1fe7c3e31e"
      },
      "execution_count": 26,
      "outputs": [
        {
          "output_type": "execute_result",
          "data": {
            "text/plain": [
              "4      ANDHRA PRADESH\n",
              "5             TRIPURA\n",
              "9             MIZORAM\n",
              "14             KERALA\n",
              "23         TAMIL NADU\n",
              "76          KARNATAKA\n",
              "86     ANDHRA PRADESH\n",
              "122         KARNATAKA\n",
              "123    ANDHRA PRADESH\n",
              "126    ANDHRA PRADESH\n",
              "Name: state_name, dtype: object"
            ]
          },
          "metadata": {},
          "execution_count": 26
        }
      ]
    },
    {
      "cell_type": "code",
      "source": [
        "grad=df[['total_graduates','name_of_city']].sort_values('total_graduates',ascending=False)\n",
        "grad.head(10)"
      ],
      "metadata": {
        "id": "Ha_7cOf8D8QU",
        "colab": {
          "base_uri": "https://localhost:8080/",
          "height": 363
        },
        "outputId": "d234d29c-be5d-4a44-f18c-31e51938041f"
      },
      "execution_count": 31,
      "outputs": [
        {
          "output_type": "execute_result",
          "data": {
            "text/plain": [
              "     total_graduates        name_of_city\n",
              "141          2221137              Delhi \n",
              "185          1802371     Greater Mumbai \n",
              "72           1591163           Bengaluru\n",
              "184          1164149  Greater Hyderabad \n",
              "119           879695            Chennai \n",
              "274           818476            Kolkata \n",
              "7             769858          Ahmadabad \n",
              "380           656508               Pune \n",
              "288           596990            Lucknow \n",
              "225           533148             Jaipur "
            ],
            "text/html": [
              "\n",
              "  <div id=\"df-6530660a-e831-4a5d-89fb-9f9c5f5783d4\">\n",
              "    <div class=\"colab-df-container\">\n",
              "      <div>\n",
              "<style scoped>\n",
              "    .dataframe tbody tr th:only-of-type {\n",
              "        vertical-align: middle;\n",
              "    }\n",
              "\n",
              "    .dataframe tbody tr th {\n",
              "        vertical-align: top;\n",
              "    }\n",
              "\n",
              "    .dataframe thead th {\n",
              "        text-align: right;\n",
              "    }\n",
              "</style>\n",
              "<table border=\"1\" class=\"dataframe\">\n",
              "  <thead>\n",
              "    <tr style=\"text-align: right;\">\n",
              "      <th></th>\n",
              "      <th>total_graduates</th>\n",
              "      <th>name_of_city</th>\n",
              "    </tr>\n",
              "  </thead>\n",
              "  <tbody>\n",
              "    <tr>\n",
              "      <th>141</th>\n",
              "      <td>2221137</td>\n",
              "      <td>Delhi</td>\n",
              "    </tr>\n",
              "    <tr>\n",
              "      <th>185</th>\n",
              "      <td>1802371</td>\n",
              "      <td>Greater Mumbai</td>\n",
              "    </tr>\n",
              "    <tr>\n",
              "      <th>72</th>\n",
              "      <td>1591163</td>\n",
              "      <td>Bengaluru</td>\n",
              "    </tr>\n",
              "    <tr>\n",
              "      <th>184</th>\n",
              "      <td>1164149</td>\n",
              "      <td>Greater Hyderabad</td>\n",
              "    </tr>\n",
              "    <tr>\n",
              "      <th>119</th>\n",
              "      <td>879695</td>\n",
              "      <td>Chennai</td>\n",
              "    </tr>\n",
              "    <tr>\n",
              "      <th>274</th>\n",
              "      <td>818476</td>\n",
              "      <td>Kolkata</td>\n",
              "    </tr>\n",
              "    <tr>\n",
              "      <th>7</th>\n",
              "      <td>769858</td>\n",
              "      <td>Ahmadabad</td>\n",
              "    </tr>\n",
              "    <tr>\n",
              "      <th>380</th>\n",
              "      <td>656508</td>\n",
              "      <td>Pune</td>\n",
              "    </tr>\n",
              "    <tr>\n",
              "      <th>288</th>\n",
              "      <td>596990</td>\n",
              "      <td>Lucknow</td>\n",
              "    </tr>\n",
              "    <tr>\n",
              "      <th>225</th>\n",
              "      <td>533148</td>\n",
              "      <td>Jaipur</td>\n",
              "    </tr>\n",
              "  </tbody>\n",
              "</table>\n",
              "</div>\n",
              "      <button class=\"colab-df-convert\" onclick=\"convertToInteractive('df-6530660a-e831-4a5d-89fb-9f9c5f5783d4')\"\n",
              "              title=\"Convert this dataframe to an interactive table.\"\n",
              "              style=\"display:none;\">\n",
              "        \n",
              "  <svg xmlns=\"http://www.w3.org/2000/svg\" height=\"24px\"viewBox=\"0 0 24 24\"\n",
              "       width=\"24px\">\n",
              "    <path d=\"M0 0h24v24H0V0z\" fill=\"none\"/>\n",
              "    <path d=\"M18.56 5.44l.94 2.06.94-2.06 2.06-.94-2.06-.94-.94-2.06-.94 2.06-2.06.94zm-11 1L8.5 8.5l.94-2.06 2.06-.94-2.06-.94L8.5 2.5l-.94 2.06-2.06.94zm10 10l.94 2.06.94-2.06 2.06-.94-2.06-.94-.94-2.06-.94 2.06-2.06.94z\"/><path d=\"M17.41 7.96l-1.37-1.37c-.4-.4-.92-.59-1.43-.59-.52 0-1.04.2-1.43.59L10.3 9.45l-7.72 7.72c-.78.78-.78 2.05 0 2.83L4 21.41c.39.39.9.59 1.41.59.51 0 1.02-.2 1.41-.59l7.78-7.78 2.81-2.81c.8-.78.8-2.07 0-2.86zM5.41 20L4 18.59l7.72-7.72 1.47 1.35L5.41 20z\"/>\n",
              "  </svg>\n",
              "      </button>\n",
              "      \n",
              "  <style>\n",
              "    .colab-df-container {\n",
              "      display:flex;\n",
              "      flex-wrap:wrap;\n",
              "      gap: 12px;\n",
              "    }\n",
              "\n",
              "    .colab-df-convert {\n",
              "      background-color: #E8F0FE;\n",
              "      border: none;\n",
              "      border-radius: 50%;\n",
              "      cursor: pointer;\n",
              "      display: none;\n",
              "      fill: #1967D2;\n",
              "      height: 32px;\n",
              "      padding: 0 0 0 0;\n",
              "      width: 32px;\n",
              "    }\n",
              "\n",
              "    .colab-df-convert:hover {\n",
              "      background-color: #E2EBFA;\n",
              "      box-shadow: 0px 1px 2px rgba(60, 64, 67, 0.3), 0px 1px 3px 1px rgba(60, 64, 67, 0.15);\n",
              "      fill: #174EA6;\n",
              "    }\n",
              "\n",
              "    [theme=dark] .colab-df-convert {\n",
              "      background-color: #3B4455;\n",
              "      fill: #D2E3FC;\n",
              "    }\n",
              "\n",
              "    [theme=dark] .colab-df-convert:hover {\n",
              "      background-color: #434B5C;\n",
              "      box-shadow: 0px 1px 3px 1px rgba(0, 0, 0, 0.15);\n",
              "      filter: drop-shadow(0px 1px 2px rgba(0, 0, 0, 0.3));\n",
              "      fill: #FFFFFF;\n",
              "    }\n",
              "  </style>\n",
              "\n",
              "      <script>\n",
              "        const buttonEl =\n",
              "          document.querySelector('#df-6530660a-e831-4a5d-89fb-9f9c5f5783d4 button.colab-df-convert');\n",
              "        buttonEl.style.display =\n",
              "          google.colab.kernel.accessAllowed ? 'block' : 'none';\n",
              "\n",
              "        async function convertToInteractive(key) {\n",
              "          const element = document.querySelector('#df-6530660a-e831-4a5d-89fb-9f9c5f5783d4');\n",
              "          const dataTable =\n",
              "            await google.colab.kernel.invokeFunction('convertToInteractive',\n",
              "                                                     [key], {});\n",
              "          if (!dataTable) return;\n",
              "\n",
              "          const docLinkHtml = 'Like what you see? Visit the ' +\n",
              "            '<a target=\"_blank\" href=https://colab.research.google.com/notebooks/data_table.ipynb>data table notebook</a>'\n",
              "            + ' to learn more about interactive tables.';\n",
              "          element.innerHTML = '';\n",
              "          dataTable['output_type'] = 'display_data';\n",
              "          await google.colab.output.renderOutput(dataTable, element);\n",
              "          const docLink = document.createElement('div');\n",
              "          docLink.innerHTML = docLinkHtml;\n",
              "          element.appendChild(docLink);\n",
              "        }\n",
              "      </script>\n",
              "    </div>\n",
              "  </div>\n",
              "  "
            ]
          },
          "metadata": {},
          "execution_count": 31
        }
      ]
    },
    {
      "cell_type": "code",
      "source": [
        "df['literacy_rate']=df['effective_literacy_rate_total'].sort_values(ascending=False)\n",
        "df[['name_of_city','location','literacy_rate']].head(10)"
      ],
      "metadata": {
        "colab": {
          "base_uri": "https://localhost:8080/",
          "height": 363
        },
        "id": "nlJBdn7bL8lt",
        "outputId": "4553e739-046a-44da-eef2-a8f45a70fd30"
      },
      "execution_count": 38,
      "outputs": [
        {
          "output_type": "execute_result",
          "data": {
            "text/plain": [
              "  name_of_city               location  literacy_rate\n",
              "0      Abohar   30.1452928,74.1993043          79.86\n",
              "1    Achalpur    21.257584,77.5086754          91.99\n",
              "2    Adilabad    19.0809075,79.560344          80.51\n",
              "3   Adityapur   22.7834741,86.1576889          83.46\n",
              "4       Adoni   15.6322227,77.2728368          68.38\n",
              "5    Agartala    23.831457,91.2867777          93.88\n",
              "6        Agra   27.1766701,78.0080745          63.44\n",
              "7   Ahmadabad    23.022505,72.5713621          89.62\n",
              "8  Ahmadnagar   19.0952075,74.7495916          91.49\n",
              "9      Aizawl    23.727107,92.7176389          98.80"
            ],
            "text/html": [
              "\n",
              "  <div id=\"df-6c3d789c-a282-4203-8fb5-286f15afdd11\">\n",
              "    <div class=\"colab-df-container\">\n",
              "      <div>\n",
              "<style scoped>\n",
              "    .dataframe tbody tr th:only-of-type {\n",
              "        vertical-align: middle;\n",
              "    }\n",
              "\n",
              "    .dataframe tbody tr th {\n",
              "        vertical-align: top;\n",
              "    }\n",
              "\n",
              "    .dataframe thead th {\n",
              "        text-align: right;\n",
              "    }\n",
              "</style>\n",
              "<table border=\"1\" class=\"dataframe\">\n",
              "  <thead>\n",
              "    <tr style=\"text-align: right;\">\n",
              "      <th></th>\n",
              "      <th>name_of_city</th>\n",
              "      <th>location</th>\n",
              "      <th>literacy_rate</th>\n",
              "    </tr>\n",
              "  </thead>\n",
              "  <tbody>\n",
              "    <tr>\n",
              "      <th>0</th>\n",
              "      <td>Abohar</td>\n",
              "      <td>30.1452928,74.1993043</td>\n",
              "      <td>79.86</td>\n",
              "    </tr>\n",
              "    <tr>\n",
              "      <th>1</th>\n",
              "      <td>Achalpur</td>\n",
              "      <td>21.257584,77.5086754</td>\n",
              "      <td>91.99</td>\n",
              "    </tr>\n",
              "    <tr>\n",
              "      <th>2</th>\n",
              "      <td>Adilabad</td>\n",
              "      <td>19.0809075,79.560344</td>\n",
              "      <td>80.51</td>\n",
              "    </tr>\n",
              "    <tr>\n",
              "      <th>3</th>\n",
              "      <td>Adityapur</td>\n",
              "      <td>22.7834741,86.1576889</td>\n",
              "      <td>83.46</td>\n",
              "    </tr>\n",
              "    <tr>\n",
              "      <th>4</th>\n",
              "      <td>Adoni</td>\n",
              "      <td>15.6322227,77.2728368</td>\n",
              "      <td>68.38</td>\n",
              "    </tr>\n",
              "    <tr>\n",
              "      <th>5</th>\n",
              "      <td>Agartala</td>\n",
              "      <td>23.831457,91.2867777</td>\n",
              "      <td>93.88</td>\n",
              "    </tr>\n",
              "    <tr>\n",
              "      <th>6</th>\n",
              "      <td>Agra</td>\n",
              "      <td>27.1766701,78.0080745</td>\n",
              "      <td>63.44</td>\n",
              "    </tr>\n",
              "    <tr>\n",
              "      <th>7</th>\n",
              "      <td>Ahmadabad</td>\n",
              "      <td>23.022505,72.5713621</td>\n",
              "      <td>89.62</td>\n",
              "    </tr>\n",
              "    <tr>\n",
              "      <th>8</th>\n",
              "      <td>Ahmadnagar</td>\n",
              "      <td>19.0952075,74.7495916</td>\n",
              "      <td>91.49</td>\n",
              "    </tr>\n",
              "    <tr>\n",
              "      <th>9</th>\n",
              "      <td>Aizawl</td>\n",
              "      <td>23.727107,92.7176389</td>\n",
              "      <td>98.80</td>\n",
              "    </tr>\n",
              "  </tbody>\n",
              "</table>\n",
              "</div>\n",
              "      <button class=\"colab-df-convert\" onclick=\"convertToInteractive('df-6c3d789c-a282-4203-8fb5-286f15afdd11')\"\n",
              "              title=\"Convert this dataframe to an interactive table.\"\n",
              "              style=\"display:none;\">\n",
              "        \n",
              "  <svg xmlns=\"http://www.w3.org/2000/svg\" height=\"24px\"viewBox=\"0 0 24 24\"\n",
              "       width=\"24px\">\n",
              "    <path d=\"M0 0h24v24H0V0z\" fill=\"none\"/>\n",
              "    <path d=\"M18.56 5.44l.94 2.06.94-2.06 2.06-.94-2.06-.94-.94-2.06-.94 2.06-2.06.94zm-11 1L8.5 8.5l.94-2.06 2.06-.94-2.06-.94L8.5 2.5l-.94 2.06-2.06.94zm10 10l.94 2.06.94-2.06 2.06-.94-2.06-.94-.94-2.06-.94 2.06-2.06.94z\"/><path d=\"M17.41 7.96l-1.37-1.37c-.4-.4-.92-.59-1.43-.59-.52 0-1.04.2-1.43.59L10.3 9.45l-7.72 7.72c-.78.78-.78 2.05 0 2.83L4 21.41c.39.39.9.59 1.41.59.51 0 1.02-.2 1.41-.59l7.78-7.78 2.81-2.81c.8-.78.8-2.07 0-2.86zM5.41 20L4 18.59l7.72-7.72 1.47 1.35L5.41 20z\"/>\n",
              "  </svg>\n",
              "      </button>\n",
              "      \n",
              "  <style>\n",
              "    .colab-df-container {\n",
              "      display:flex;\n",
              "      flex-wrap:wrap;\n",
              "      gap: 12px;\n",
              "    }\n",
              "\n",
              "    .colab-df-convert {\n",
              "      background-color: #E8F0FE;\n",
              "      border: none;\n",
              "      border-radius: 50%;\n",
              "      cursor: pointer;\n",
              "      display: none;\n",
              "      fill: #1967D2;\n",
              "      height: 32px;\n",
              "      padding: 0 0 0 0;\n",
              "      width: 32px;\n",
              "    }\n",
              "\n",
              "    .colab-df-convert:hover {\n",
              "      background-color: #E2EBFA;\n",
              "      box-shadow: 0px 1px 2px rgba(60, 64, 67, 0.3), 0px 1px 3px 1px rgba(60, 64, 67, 0.15);\n",
              "      fill: #174EA6;\n",
              "    }\n",
              "\n",
              "    [theme=dark] .colab-df-convert {\n",
              "      background-color: #3B4455;\n",
              "      fill: #D2E3FC;\n",
              "    }\n",
              "\n",
              "    [theme=dark] .colab-df-convert:hover {\n",
              "      background-color: #434B5C;\n",
              "      box-shadow: 0px 1px 3px 1px rgba(0, 0, 0, 0.15);\n",
              "      filter: drop-shadow(0px 1px 2px rgba(0, 0, 0, 0.3));\n",
              "      fill: #FFFFFF;\n",
              "    }\n",
              "  </style>\n",
              "\n",
              "      <script>\n",
              "        const buttonEl =\n",
              "          document.querySelector('#df-6c3d789c-a282-4203-8fb5-286f15afdd11 button.colab-df-convert');\n",
              "        buttonEl.style.display =\n",
              "          google.colab.kernel.accessAllowed ? 'block' : 'none';\n",
              "\n",
              "        async function convertToInteractive(key) {\n",
              "          const element = document.querySelector('#df-6c3d789c-a282-4203-8fb5-286f15afdd11');\n",
              "          const dataTable =\n",
              "            await google.colab.kernel.invokeFunction('convertToInteractive',\n",
              "                                                     [key], {});\n",
              "          if (!dataTable) return;\n",
              "\n",
              "          const docLinkHtml = 'Like what you see? Visit the ' +\n",
              "            '<a target=\"_blank\" href=https://colab.research.google.com/notebooks/data_table.ipynb>data table notebook</a>'\n",
              "            + ' to learn more about interactive tables.';\n",
              "          element.innerHTML = '';\n",
              "          dataTable['output_type'] = 'display_data';\n",
              "          await google.colab.output.renderOutput(dataTable, element);\n",
              "          const docLink = document.createElement('div');\n",
              "          docLink.innerHTML = docLinkHtml;\n",
              "          element.appendChild(docLink);\n",
              "        }\n",
              "      </script>\n",
              "    </div>\n",
              "  </div>\n",
              "  "
            ]
          },
          "metadata": {},
          "execution_count": 38
        }
      ]
    },
    {
      "cell_type": "code",
      "source": [
        "df.columns"
      ],
      "metadata": {
        "colab": {
          "base_uri": "https://localhost:8080/"
        },
        "id": "EE8VOV4cNPj3",
        "outputId": "0eebebbb-0b57-45bc-e8a0-5f43618e9297"
      },
      "execution_count": 41,
      "outputs": [
        {
          "output_type": "execute_result",
          "data": {
            "text/plain": [
              "Index(['name_of_city', 'state_code', 'state_name', 'dist_code',\n",
              "       'population_total', 'population_male', 'population_female',\n",
              "       '0-6_population_total', '0-6_population_male', '0-6_population_female',\n",
              "       'literates_total', 'literates_male', 'literates_female', 'sex_ratio',\n",
              "       'child_sex_ratio', 'effective_literacy_rate_total',\n",
              "       'effective_literacy_rate_male', 'effective_literacy_rate_female',\n",
              "       'location', 'total_graduates', 'male_graduates', 'female_graduates',\n",
              "       'literacy_rate'],\n",
              "      dtype='object')"
            ]
          },
          "metadata": {},
          "execution_count": 41
        }
      ]
    },
    {
      "cell_type": "code",
      "source": [
        "\"\"\"\n",
        "2.\tFor the data set “Indian_cities”\n",
        "a)\tConstruct histogram on literates_total and comment about the inferences\n",
        "b)\tConstruct scatter  plot between  male graduates and female graduates\n",
        "\"\"\"\n"
      ],
      "metadata": {
        "id": "9VOW561tNmxk"
      },
      "execution_count": null,
      "outputs": []
    },
    {
      "cell_type": "code",
      "source": [
        "import matplotlib.pyplot as plt"
      ],
      "metadata": {
        "id": "T_crWPfwNktJ"
      },
      "execution_count": 42,
      "outputs": []
    },
    {
      "cell_type": "code",
      "source": [
        "x=df['literates_total']\n",
        "plt.hist(x)"
      ],
      "metadata": {
        "colab": {
          "base_uri": "https://localhost:8080/",
          "height": 365
        },
        "id": "MXfEQ6ZkODqw",
        "outputId": "7074ee32-8f7f-48bc-a068-b1c6d1c20693"
      },
      "execution_count": 43,
      "outputs": [
        {
          "output_type": "execute_result",
          "data": {
            "text/plain": [
              "(array([471.,  10.,   4.,   3.,   2.,   0.,   1.,   0.,   1.,   1.]),\n",
              " array([   56998. ,  1075056.8,  2093115.6,  3111174.4,  4129233.2,\n",
              "         5147292. ,  6165350.8,  7183409.6,  8201468.4,  9219527.2,\n",
              "        10237586. ]),\n",
              " <a list of 10 Patch objects>)"
            ]
          },
          "metadata": {},
          "execution_count": 43
        },
        {
          "output_type": "display_data",
          "data": {
            "text/plain": [
              "<Figure size 432x288 with 1 Axes>"
            ],
            "image/png": "[encoded data removed]"
          },
          "metadata": {
            "needs_background": "light"
          }
        }
      ]
    },
    {
      "cell_type": "code",
      "source": [
        "x=df['literates_male']\n",
        "y=df['literates_female']\n",
        "plt.scatter(x,y,c='red')"
      ],
      "metadata": {
        "colab": {
          "base_uri": "https://localhost:8080/",
          "height": 306
        },
        "id": "8GsgeIR9Oj5w",
        "outputId": "baf1ff11-4039-43ff-fa34-cb2059a91bf3"
      },
      "execution_count": 44,
      "outputs": [
        {
          "output_type": "execute_result",
          "data": {
            "text/plain": [
              "<matplotlib.collections.PathCollection at 0x7f0de0c90850>"
            ]
          },
          "metadata": {},
          "execution_count": 44
        },
        {
          "output_type": "display_data",
          "data": {
            "text/plain": [
              "<Figure size 432x288 with 1 Axes>"
            ],
            "image/png": "[encoded data removed]"
          },
          "metadata": {
            "needs_background": "light"
          }
        }
      ]
    },
    {
      "cell_type": "code",
      "source": [
        "\"\"\"\n",
        "3.\tFor the data set “Indian_cities”\n",
        "a)\tConstruct Boxplot on total effective literacy rate and draw inferences\n",
        "b)\tFind out the number of null values in each column of the dataset and delete them.\n",
        "\n",
        "\"\"\""
      ],
      "metadata": {
        "id": "gKrI1hZ7PZwv"
      },
      "execution_count": null,
      "outputs": []
    },
    {
      "cell_type": "code",
      "source": [
        "df['effective_literacy_rate_total'].plot(kind='box')"
      ],
      "metadata": {
        "colab": {
          "base_uri": "https://localhost:8080/",
          "height": 283
        },
        "id": "D-T5TLiXPgKt",
        "outputId": "d85cd7d1-1c33-40f7-bc43-e9e7be72fa37"
      },
      "execution_count": 45,
      "outputs": [
        {
          "output_type": "execute_result",
          "data": {
            "text/plain": [
              "<matplotlib.axes._subplots.AxesSubplot at 0x7f0de0c8c070>"
            ]
          },
          "metadata": {},
          "execution_count": 45
        },
        {
          "output_type": "display_data",
          "data": {
            "text/plain": [
              "<Figure size 432x288 with 1 Axes>"
            ],
            "image/png": "[encoded data removed]"
          },
          "metadata": {
            "needs_background": "light"
          }
        }
      ]
    },
    {
      "cell_type": "code",
      "source": [
        "df.isnull().sum()"
      ],
      "metadata": {
        "colab": {
          "base_uri": "https://localhost:8080/"
        },
        "id": "FjkSLoo8P8k2",
        "outputId": "2b19d215-5106-4a07-a86d-01cbef4e8155"
      },
      "execution_count": 49,
      "outputs": [
        {
          "output_type": "execute_result",
          "data": {
            "text/plain": [
              "name_of_city                      0\n",
              "state_code                        0\n",
              "state_name                        0\n",
              "dist_code                         0\n",
              "population_total                  0\n",
              "population_male                   0\n",
              "population_female                 0\n",
              "0-6_population_total              0\n",
              "0-6_population_male               0\n",
              "0-6_population_female             0\n",
              "literates_total                   0\n",
              "literates_male                    0\n",
              "literates_female                  0\n",
              "sex_ratio                         0\n",
              "child_sex_ratio                   0\n",
              "effective_literacy_rate_total     0\n",
              "effective_literacy_rate_male      0\n",
              "effective_literacy_rate_female    0\n",
              "location                          0\n",
              "total_graduates                   0\n",
              "male_graduates                    0\n",
              "female_graduates                  0\n",
              "literacy_rate                     0\n",
              "dtype: int64"
            ]
          },
          "metadata": {},
          "execution_count": 49
        }
      ]
    }
  ]
}