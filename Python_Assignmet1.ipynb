{
  "nbformat": 4,
  "nbformat_minor": 0,
  "metadata": {
    "colab": {
      "provenance": []
    },
    "kernelspec": {
      "name": "python3",
      "display_name": "Python 3"
    },
    "language_info": {
      "name": "python"
    }
  },
  "cells": [
    {
      "cell_type": "code",
      "execution_count": null,
      "metadata": {
        "id": "IHI6pVJJLuNl"
      },
      "outputs": [],
      "source": [
        "\"\"\"\n",
        "ASSIGNMENT-1 Data Types\n",
        "Please implement by using Python.\n",
        "1.\tConstruct 2 lists containing all the available data types  (integer, float, string, complex and Boolean) and do the following..\n",
        "a.\tCreate another list by concatenating above 2 lists\n",
        "b.\tFind the frequency of each element in the concatenated list.\n",
        "c.\tPrint the list in reverse order.\n",
        "\n",
        "\"\"\""
      ]
    },
    {
      "cell_type": "code",
      "source": [
        "#1)\n",
        "l1=[4,5,2.5,'Car','Train',6]\n",
        "l2=[5,7,'carrot','Train']\n",
        "l3=l1+l2\n",
        "print(l3)\n",
        "\n"
      ],
      "metadata": {
        "colab": {
          "base_uri": "https://localhost:8080/"
        },
        "id": "3fjLT8vbL-ZN",
        "outputId": "05a65afe-d13f-4d31-fb3b-4c0f2eba1a97"
      },
      "execution_count": 17,
      "outputs": [
        {
          "output_type": "stream",
          "name": "stdout",
          "text": [
            "[4, 5, 2.5, 'Car', 'Train', 6, 5, 7, 'carrot', 'Train']\n",
            "[4, 5, 2.5, 'Car', 'Train', 6, 5, 7, 'carrot', 'Train']\n"
          ]
        }
      ]
    },
    {
      "cell_type": "code",
      "source": [
        "list=[1,2,3,3,4,'car','bus','train','car',5,6]\n",
        "def CountFrequency(list):\n",
        " \n",
        "    # Creating an empty dictionary\n",
        "    freq = {}\n",
        "    for item in list:\n",
        "        if (item in freq):\n",
        "            freq[item] += 1\n",
        "        else:\n",
        "            freq[item] = 1\n",
        " \n",
        "    for key, value in freq.items():\n",
        "        print (\"% s : % s\"%(key, value))\n",
        "CountFrequency(list)\n",
        "    \n"
      ],
      "metadata": {
        "colab": {
          "base_uri": "https://localhost:8080/"
        },
        "id": "aq2jX866P5Jl",
        "outputId": "1f1c7f1f-31ed-4098-9990-2a38ae2da5c7"
      },
      "execution_count": 34,
      "outputs": [
        {
          "output_type": "stream",
          "name": "stdout",
          "text": [
            "1 : 1\n",
            "2 : 1\n",
            "3 : 2\n",
            "4 : 1\n",
            "car : 2\n",
            "bus : 1\n",
            "train : 1\n",
            "5 : 1\n",
            "6 : 1\n"
          ]
        }
      ]
    },
    {
      "cell_type": "code",
      "source": [
        "#Reverse order\n",
        "print(\"Original List \",l3)\n",
        "print(\"Length of the list:\",len(l3))\n",
        "l3.reverse()\n",
        "print(l3)\n",
        "#OR\n",
        "print(l3[-10:])"
      ],
      "metadata": {
        "colab": {
          "base_uri": "https://localhost:8080/"
        },
        "id": "qJD6Wli7ECBZ",
        "outputId": "f5723f13-f0cb-41f9-8f7b-c6e3722cee72"
      },
      "execution_count": 19,
      "outputs": [
        {
          "output_type": "stream",
          "name": "stdout",
          "text": [
            "Original List  [4, 5, 2.5, 'Car', 'Train', 6, 5, 7, 'carrot', 'Train']\n",
            "Length of the list: 10\n",
            "['Train', 'carrot', 7, 5, 6, 'Train', 'Car', 2.5, 5, 4]\n",
            "['Train', 'carrot', 7, 5, 6, 'Train', 'Car', 2.5, 5, 4]\n",
            "Original List  [4, 5, 2.5, 'Car', 'Train', 6, 5, 7, 'carrot', 'Train']\n",
            "Length of the list: 10\n",
            "['Train', 'carrot', 7, 5, 6, 'Train', 'Car', 2.5, 5, 4]\n",
            "['Train', 'carrot', 7, 5, 6, 'Train', 'Car', 2.5, 5, 4]\n"
          ]
        }
      ]
    },
    {
      "cell_type": "code",
      "source": [
        "\"\"\"\n",
        "\n",
        "2.\tCreate 2 Sets containing integers (numbers from 1 to 10 in one set and 5 to 15 in other set)\n",
        "a.\tFind the common elements in above 2 Sets.\n",
        "b.\tFind the elements that are not common.\n",
        "c.\tRemove element 7 from both the Sets.\n",
        "\n",
        "\"\"\"\n",
        "\n"
      ],
      "metadata": {
        "colab": {
          "base_uri": "https://localhost:8080/",
          "height": 71
        },
        "id": "DGAnRWJHFqg6",
        "outputId": "29d58d53-763b-4709-ef71-94b0cf39c4c1"
      },
      "execution_count": 20,
      "outputs": [
        {
          "output_type": "execute_result",
          "data": {
            "text/plain": [
              "'\\n\\n2.\\tCreate 2 Sets containing integers (numbers from 1 to 10 in one set and 5 to 15 in other set)\\na.\\tFind the common elements in above 2 Sets.\\nb.\\tFind the elements that are not common.\\nc.\\tRemove element 7 from both the Sets.\\n\\n'"
            ],
            "application/vnd.google.colaboratory.intrinsic+json": {
              "type": "string"
            }
          },
          "metadata": {},
          "execution_count": 5
        },
        {
          "output_type": "execute_result",
          "data": {
            "text/plain": [
              "'\\n\\n2.\\tCreate 2 Sets containing integers (numbers from 1 to 10 in one set and 5 to 15 in other set)\\na.\\tFind the common elements in above 2 Sets.\\nb.\\tFind the elements that are not common.\\nc.\\tRemove element 7 from both the Sets.\\n\\n'"
            ],
            "application/vnd.google.colaboratory.intrinsic+json": {
              "type": "string"
            }
          },
          "metadata": {},
          "execution_count": 20
        }
      ]
    },
    {
      "cell_type": "code",
      "source": [
        "s1={1,2,3,4,5,6,7,8,9,10}\n",
        "s2={5,6,7,8,9,10,11,12,13,14,15}  \n",
        "#set=range(5,16)\n",
        "#s2=list(set)\n",
        "s1"
      ],
      "metadata": {
        "colab": {
          "base_uri": "https://localhost:8080/"
        },
        "id": "aXdH_Je6Fq2q",
        "outputId": "cc4b1a31-efb3-4fac-c291-2456b8313896"
      },
      "execution_count": 21,
      "outputs": [
        {
          "output_type": "execute_result",
          "data": {
            "text/plain": [
              "{1, 2, 3, 4, 5, 6, 7, 8, 9, 10}"
            ]
          },
          "metadata": {},
          "execution_count": 6
        },
        {
          "output_type": "execute_result",
          "data": {
            "text/plain": [
              "{1, 2, 3, 4, 5, 6, 7, 8, 9, 10}"
            ]
          },
          "metadata": {},
          "execution_count": 21
        }
      ]
    },
    {
      "cell_type": "code",
      "source": [
        "print(s2)"
      ],
      "metadata": {
        "colab": {
          "base_uri": "https://localhost:8080/"
        },
        "id": "q9KeYAx3FrIa",
        "outputId": "a3805a25-58c5-4ef9-b0ac-e40fc9cf69aa"
      },
      "execution_count": 22,
      "outputs": [
        {
          "output_type": "stream",
          "name": "stdout",
          "text": [
            "{5, 6, 7, 8, 9, 10, 11, 12, 13, 14, 15}\n",
            "{5, 6, 7, 8, 9, 10, 11, 12, 13, 14, 15}\n"
          ]
        }
      ]
    },
    {
      "cell_type": "code",
      "source": [
        "#\tFind the common elements in above 2 Sets.\n",
        "print(s1&s2)"
      ],
      "metadata": {
        "colab": {
          "base_uri": "https://localhost:8080/"
        },
        "id": "zN8FnSeJH3wL",
        "outputId": "2f50c893-11c5-4fa0-d384-c58cf602d6f8"
      },
      "execution_count": 23,
      "outputs": [
        {
          "output_type": "stream",
          "name": "stdout",
          "text": [
            "{5, 6, 7, 8, 9, 10}\n",
            "{5, 6, 7, 8, 9, 10}\n"
          ]
        }
      ]
    },
    {
      "cell_type": "code",
      "source": [
        "#Find the elements that are not common.\n",
        "print(s1^s2)"
      ],
      "metadata": {
        "colab": {
          "base_uri": "https://localhost:8080/"
        },
        "id": "uNPjJN-5H4gc",
        "outputId": "b0c931a6-1118-42ce-9eaa-d690309d34fa"
      },
      "execution_count": 24,
      "outputs": [
        {
          "output_type": "stream",
          "name": "stdout",
          "text": [
            "{1, 2, 3, 4, 11, 12, 13, 14, 15}\n",
            "{1, 2, 3, 4, 11, 12, 13, 14, 15}\n"
          ]
        }
      ]
    },
    {
      "cell_type": "code",
      "source": [
        "#Remove element 7 from both the Sets.\n",
        "s1.remove(7)\n",
        "print(s1)"
      ],
      "metadata": {
        "colab": {
          "base_uri": "https://localhost:8080/"
        },
        "id": "0NDpY4lPH4x_",
        "outputId": "f7d6b49b-d2cd-4317-8e1c-bc147c3432c0"
      },
      "execution_count": 25,
      "outputs": [
        {
          "output_type": "stream",
          "name": "stdout",
          "text": [
            "{1, 2, 3, 4, 5, 6, 8, 9, 10}\n",
            "{1, 2, 3, 4, 5, 6, 8, 9, 10}\n"
          ]
        }
      ]
    },
    {
      "cell_type": "code",
      "source": [
        "\"\"\"\n",
        "3.\tCreate a data dictionary of 5 states having state name as key and number of covid-19 cases as values.\n",
        "a.\tPrint only state names from the dictionary.\n",
        "b.\tUpdate another country and it’s covid-19 cases in the dictionary.\n",
        "\n",
        "\"\"\""
      ],
      "metadata": {
        "colab": {
          "base_uri": "https://localhost:8080/",
          "height": 71
        },
        "id": "VNwzjeOLH5Bc",
        "outputId": "61b2729c-4725-420e-9a0a-448109d07d6a"
      },
      "execution_count": 26,
      "outputs": [
        {
          "output_type": "execute_result",
          "data": {
            "text/plain": [
              "'\\n3.\\tCreate a data dictionary of 5 states having state name as key and number of covid-19 cases as values.\\na.\\tPrint only state names from the dictionary.\\nb.\\tUpdate another country and it’s covid-19 cases in the dictionary.\\n\\n'"
            ],
            "application/vnd.google.colaboratory.intrinsic+json": {
              "type": "string"
            }
          },
          "metadata": {},
          "execution_count": 11
        },
        {
          "output_type": "execute_result",
          "data": {
            "text/plain": [
              "'\\n3.\\tCreate a data dictionary of 5 states having state name as key and number of covid-19 cases as values.\\na.\\tPrint only state names from the dictionary.\\nb.\\tUpdate another country and it’s covid-19 cases in the dictionary.\\n\\n'"
            ],
            "application/vnd.google.colaboratory.intrinsic+json": {
              "type": "string"
            }
          },
          "metadata": {},
          "execution_count": 26
        }
      ]
    },
    {
      "cell_type": "code",
      "source": [
        "dict={'TamilNadu':1234,\"Karnataka\":1567,\"Hyderabad\":1678,\"Telegana\":1298,\"Kerala\":1876}"
      ],
      "metadata": {
        "id": "go9v4LTYH5N9"
      },
      "execution_count": 27,
      "outputs": []
    },
    {
      "cell_type": "code",
      "source": [
        "dict.keys()"
      ],
      "metadata": {
        "colab": {
          "base_uri": "https://localhost:8080/"
        },
        "id": "3tIFcH2gH6Cj",
        "outputId": "4883ba7b-6a29-4d29-96c8-4f6f5f243a5b"
      },
      "execution_count": 28,
      "outputs": [
        {
          "output_type": "execute_result",
          "data": {
            "text/plain": [
              "dict_keys(['TamilNadu', 'Karnataka', 'Hyderabad', 'Telegana', 'Kerala'])"
            ]
          },
          "metadata": {},
          "execution_count": 13
        },
        {
          "output_type": "execute_result",
          "data": {
            "text/plain": [
              "dict_keys(['TamilNadu', 'Karnataka', 'Hyderabad', 'Telegana', 'Kerala'])"
            ]
          },
          "metadata": {},
          "execution_count": 28
        }
      ]
    },
    {
      "cell_type": "code",
      "source": [
        "dict.values()\n"
      ],
      "metadata": {
        "colab": {
          "base_uri": "https://localhost:8080/"
        },
        "id": "yqGVP1LGREc0",
        "outputId": "3a89701f-364e-46d4-ab09-79e03ffb2ddd"
      },
      "execution_count": 29,
      "outputs": [
        {
          "output_type": "execute_result",
          "data": {
            "text/plain": [
              "dict_values([1234, 1567, 1678, 1298, 1876])"
            ]
          },
          "metadata": {},
          "execution_count": 14
        },
        {
          "output_type": "execute_result",
          "data": {
            "text/plain": [
              "dict_values([1234, 1567, 1678, 1298, 1876])"
            ]
          },
          "metadata": {},
          "execution_count": 29
        }
      ]
    },
    {
      "cell_type": "code",
      "source": [
        "dict.update({\"Andhra\":1672})\n",
        "dict.items()"
      ],
      "metadata": {
        "colab": {
          "base_uri": "https://localhost:8080/"
        },
        "id": "g2J5M-mhREwm",
        "outputId": "2cd156a3-d679-4c14-9ee8-a80067718064"
      },
      "execution_count": 30,
      "outputs": [
        {
          "output_type": "execute_result",
          "data": {
            "text/plain": [
              "dict_items([('TamilNadu', 1234), ('Karnataka', 1567), ('Hyderabad', 1678), ('Telegana', 1298), ('Kerala', 1876), ('Andhra', 1672)])"
            ]
          },
          "metadata": {},
          "execution_count": 15
        },
        {
          "output_type": "execute_result",
          "data": {
            "text/plain": [
              "dict_items([('TamilNadu', 1234), ('Karnataka', 1567), ('Hyderabad', 1678), ('Telegana', 1298), ('Kerala', 1876), ('Andhra', 1672)])"
            ]
          },
          "metadata": {},
          "execution_count": 30
        }
      ]
    },
    {
      "cell_type": "code",
      "source": [],
      "metadata": {
        "id": "B5b-Uig_OZBd"
      },
      "execution_count": 30,
      "outputs": []
    }
  ]
}