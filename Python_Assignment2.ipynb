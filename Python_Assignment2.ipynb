{
  "nbformat": 4,
  "nbformat_minor": 0,
  "metadata": {
    "colab": {
      "provenance": []
    },
    "kernelspec": {
      "name": "python3",
      "display_name": "Python 3"
    },
    "language_info": {
      "name": "python"
    }
  },
  "cells": [
    {
      "cell_type": "code",
      "execution_count": null,
      "metadata": {
        "id": "LPPFAjycXg2l"
      },
      "outputs": [],
      "source": [
        "\"\"\"\n",
        "MODULE-2 OPERATORES\n",
        "Please implement by using Python\n",
        "1.\tA. Write an equation which relates   399, 543 and 12345 \n",
        "B.  “When I divide 5 with 3, I got 1. But when I divide -5 with 3, I got -2”—How would you justify it.\n",
        "       2.  a=5,b=3,c=10.. What will be the output of the following:\n",
        "              A. a/=b\n",
        "              B. c*=5  \n",
        "       3. A. How to check the presence of an alphabet ‘s’ in word “Data Science” .\n",
        "            B. How can you obtain 64 by using numbers 4 and 3 .\n",
        "\n",
        "\n",
        "\"\"\""
      ]
    },
    {
      "cell_type": "code",
      "source": [
        "# 12345/543 has a quotient of 22 and its remainder is 399\n",
        "\"\"\"\n",
        "if num1 = 12345 ;  num2= 543 and rem= 399\n",
        "\n",
        "then num1= 22num2 + rem\n",
        "\"\"\"\n",
        "\n",
        "num1=12345\n",
        "num2,rem=543,399\n",
        "num=(22*543)+rem\n",
        "if (num==num1):\n",
        "  print(\"Valid equation\")"
      ],
      "metadata": {
        "colab": {
          "base_uri": "https://localhost:8080/"
        },
        "id": "oVc4v2s-XsXc",
        "outputId": "104ab8c4-3595-45cd-aa00-d63359090068"
      },
      "execution_count": null,
      "outputs": [
        {
          "output_type": "stream",
          "name": "stdout",
          "text": [
            "Valid equation\n"
          ]
        }
      ]
    },
    {
      "cell_type": "code",
      "source": [
        "#“When I divide 5 with 3, I got 1. But when I divide -5 with 3, I got -2”—How would you justify it.\n",
        "quo=5//3\n",
        "print(quo)\n",
        "quo2=-(5%3)\n",
        "print(quo2)\n"
      ],
      "metadata": {
        "colab": {
          "base_uri": "https://localhost:8080/"
        },
        "id": "bcgEqhYtEAnw",
        "outputId": "570b4a02-f1c1-4646-9815-09018ef39986"
      },
      "execution_count": 4,
      "outputs": [
        {
          "output_type": "stream",
          "name": "stdout",
          "text": [
            "1\n",
            "-2\n"
          ]
        }
      ]
    },
    {
      "cell_type": "code",
      "source": [
        "\"\"\"\n",
        "2\n",
        "a=5,b=3,c=10.. What will be the output of the following:\n",
        "              A. a/=b\n",
        "              B. c*=5\n",
        "\"\"\"\n",
        "\n",
        "a,b,c=5,3,10\n",
        "a=a/b\n",
        "print(a)\n",
        "c=c*5\n",
        "print(c)\n",
        "\n"
      ],
      "metadata": {
        "colab": {
          "base_uri": "https://localhost:8080/"
        },
        "id": "snKUlVbrbms8",
        "outputId": "ff88e3d7-5b0b-4993-f1ec-f14ac031794c"
      },
      "execution_count": null,
      "outputs": [
        {
          "output_type": "stream",
          "name": "stdout",
          "text": [
            "1.6666666666666667\n",
            "50\n"
          ]
        }
      ]
    },
    {
      "cell_type": "code",
      "source": [
        "\"\"\"\n",
        " 3. A. How to check the presence of an alphabet ‘s’ in word “Data Science” .\n",
        "            B. How can you obtain 64 by using numbers 4 and 3 .\n",
        "\"\"\"\n",
        "\n",
        "word='Data Science'\n",
        "print('S' in word)\n",
        "print(pow(4,3)) #OR\n",
        "print(4**3)"
      ],
      "metadata": {
        "colab": {
          "base_uri": "https://localhost:8080/"
        },
        "id": "RwEXv1BNbm--",
        "outputId": "80150798-9cf4-4f70-ac7a-7ba79d640790"
      },
      "execution_count": null,
      "outputs": [
        {
          "output_type": "stream",
          "name": "stdout",
          "text": [
            "True\n",
            "64\n",
            "64\n"
          ]
        }
      ]
    },
    {
      "cell_type": "code",
      "source": [],
      "metadata": {
        "id": "nKyqaQBQbnB_"
      },
      "execution_count": null,
      "outputs": []
    }
  ]
}