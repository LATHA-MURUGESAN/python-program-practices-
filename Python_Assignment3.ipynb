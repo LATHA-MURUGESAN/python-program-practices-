{
  "nbformat": 4,
  "nbformat_minor": 0,
  "metadata": {
    "colab": {
      "provenance": []
    },
    "kernelspec": {
      "name": "python3",
      "display_name": "Python 3"
    },
    "language_info": {
      "name": "python"
    }
  },
  "cells": [
    {
      "cell_type": "code",
      "execution_count": 1,
      "metadata": {
        "colab": {
          "base_uri": "https://localhost:8080/",
          "height": 53
        },
        "id": "Q5KxjQQle-Sq",
        "outputId": "1ab8bbf9-19df-4860-cb9a-eae9719b4331"
      },
      "outputs": [
        {
          "output_type": "execute_result",
          "data": {
            "text/plain": [
              "'\\nMODULE 3 Variables\\n1.\\tWhat will be the output of the following (can/cannot):\\na.\\tAge1=5  can\\nb.\\t5age=55 Cannot\\n\\n2.\\tWhat will be the output of following (can/cannot):\\na.\\tAge_1=100\\nb.\\tage@1=100\\n\\n3.\\tHow can you delete variables in Python ?\\n\\n\\n'"
            ],
            "application/vnd.google.colaboratory.intrinsic+json": {
              "type": "string"
            }
          },
          "metadata": {},
          "execution_count": 1
        }
      ],
      "source": [
        "\"\"\"\n",
        "MODULE 3 Variables\n",
        "1.\tWhat will be the output of the following (can/cannot):\n",
        "a.\tAge1=5  can\n",
        "b.\t5age=55 Cannot\n",
        "\n",
        "2.\tWhat will be the output of following (can/cannot):\n",
        "a.\tAge_1=100\n",
        "b.\tage@1=100\n",
        "\n",
        "3.\tHow can you delete variables in Python ?\n",
        "\n",
        "\n",
        "\"\"\""
      ]
    },
    {
      "cell_type": "code",
      "source": [
        "Age_1=100 #can\n",
        "#age@1=100 #cannot"
      ],
      "metadata": {
        "id": "GW0dCXtcfau8"
      },
      "execution_count": 2,
      "outputs": []
    },
    {
      "cell_type": "code",
      "source": [
        "Age1=5  #can\n",
        "#5age=55 #cannot"
      ],
      "metadata": {
        "id": "Kb7iYPWrfMGT"
      },
      "execution_count": 3,
      "outputs": []
    },
    {
      "cell_type": "code",
      "source": [
        "a=10\n",
        "print(a)\n",
        "del a\n",
        "print(a)ython"
      ],
      "metadata": {
        "colab": {
          "base_uri": "https://localhost:8080/",
          "height": 217
        },
        "id": "OyLUXHtAf4aJ",
        "outputId": "292e2e1f-e319-4b15-8e97-e3785fc37d7e"
      },
      "execution_count": 4,
      "outputs": [
        {
          "output_type": "stream",
          "name": "stdout",
          "text": [
            "10\n"
          ]
        },
        {
          "output_type": "error",
          "ename": "NameError",
          "evalue": "ignored",
          "traceback": [
            "\u001b[0;31m---------------------------------------------------------------------------\u001b[0m",
            "\u001b[0;31mNameError\u001b[0m                                 Traceback (most recent call last)",
            "\u001b[0;32m<ipython-input-4-31bb1b169fc5>\u001b[0m in \u001b[0;36m<module>\u001b[0;34m\u001b[0m\n\u001b[1;32m      2\u001b[0m \u001b[0mprint\u001b[0m\u001b[0;34m(\u001b[0m\u001b[0ma\u001b[0m\u001b[0;34m)\u001b[0m\u001b[0;34m\u001b[0m\u001b[0;34m\u001b[0m\u001b[0m\n\u001b[1;32m      3\u001b[0m \u001b[0;32mdel\u001b[0m \u001b[0ma\u001b[0m\u001b[0;34m\u001b[0m\u001b[0;34m\u001b[0m\u001b[0m\n\u001b[0;32m----> 4\u001b[0;31m \u001b[0mprint\u001b[0m\u001b[0;34m(\u001b[0m\u001b[0ma\u001b[0m\u001b[0;34m)\u001b[0m\u001b[0;34m\u001b[0m\u001b[0;34m\u001b[0m\u001b[0m\n\u001b[0m",
            "\u001b[0;31mNameError\u001b[0m: name 'a' is not defined"
          ]
        }
      ]
    },
    {
      "cell_type": "code",
      "source": [],
      "metadata": {
        "id": "SubGY4bOgPpJ"
      },
      "execution_count": null,
      "outputs": []
    }
  ]
}