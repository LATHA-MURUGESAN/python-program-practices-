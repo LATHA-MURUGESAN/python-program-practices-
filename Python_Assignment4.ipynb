{
  "nbformat": 4,
  "nbformat_minor": 0,
  "metadata": {
    "colab": {
      "provenance": []
    },
    "kernelspec": {
      "name": "python3",
      "display_name": "Python 3"
    },
    "language_info": {
      "name": "python"
    }
  },
  "cells": [
    {
      "cell_type": "code",
      "execution_count": null,
      "metadata": {
        "id": "42DVrO0SgnE7"
      },
      "outputs": [],
      "source": [
        "\"\"\"\n",
        "MODULE-4 Conditional Statements\n",
        "Please write Python Programs for all the problems .\n",
        "1.\t Take a variable ‘age’ which is of positive value and check the following:\n",
        "a.\tIf age is less than 10, print “Children”.\n",
        "b.\tIf age is more than 60 , print ‘senior citizens’\n",
        "c.\t If it is in between 10 and 60, print ‘normal citizen’\n",
        "\n",
        "2.\tFind  the final train ticket price with the following conditions. \n",
        "a.\tIf male and sr.citizen, 70% of fare is applicable\n",
        "b.\tIf female and sr.citizen, 50% of fare is applicable.\n",
        "c.\tIf female and normal citizen, 70% of fare is applicable\n",
        "d.\tIf male and normal citizen, 100% of fare is applicable\n",
        "[Hint: First check for the gender, then calculate the fare based on age factor.. For both Male and Female ,consider them as sr.citizens if their age >=60]\n",
        "3.\tCheck whether the given number is positive and divisible by 5 or not.  \n",
        "  \n",
        "\n",
        "\"\"\"\n",
        "\n",
        "\n"
      ]
    },
    {
      "cell_type": "markdown",
      "source": [
        "Please write Python Programs for all the problems .\n",
        "1.\t Take a variable ‘age’ which is of positive value and check the following:\n",
        "a.\tIf age is less than 10, print “Children”.\n",
        "b.\tIf age is more than 60 , print ‘senior citizens’\n",
        "c.\t If it is in between 10 and 60, print ‘normal citizen’"
      ],
      "metadata": {
        "id": "GjydSLr0g_cE"
      }
    },
    {
      "cell_type": "code",
      "source": [
        "age=52\n",
        "if age<=10:\n",
        "  print(\"Children\")\n",
        "elif age>=60:\n",
        "  print(\"Senior Citizen\")\n",
        "elif (age>10)and(age<60):\n",
        "  print('Normal Citizen')\n"
      ],
      "metadata": {
        "colab": {
          "base_uri": "https://localhost:8080/"
        },
        "id": "rSQIiF9jhAwF",
        "outputId": "9327c4cf-e40b-4066-ad76-df9cc4199bd0"
      },
      "execution_count": 1,
      "outputs": [
        {
          "output_type": "stream",
          "name": "stdout",
          "text": [
            "Normal Citizen\n"
          ]
        }
      ]
    },
    {
      "cell_type": "markdown",
      "source": [
        "Find  the final train ticket price with the following conditions. \n",
        "a.\tIf male and sr.citizen, 70% of fare is applicable\n",
        "b.\tIf female and sr.citizen, 50% of fare is applicable.\n",
        "c.\tIf female and normal citizen, 70% of fare is applicable\n",
        "d.\tIf male and normal citizen, 100% of fare is applicable\n",
        "[Hint: First check for the gender, then calculate the fare based on age factor.. For both Male and Female ,consider them as sr.citizens if their age >=60]"
      ],
      "metadata": {
        "id": "PTcy2nlRhzd8"
      }
    },
    {
      "cell_type": "code",
      "source": [
        "gender=input(\"Enter the gender(F/M):\")\n",
        "age=int(input(\"Enter the age of passenger:\"))\n",
        "if (gender=='M')and(age>=60):\n",
        "  print('sr.citizen, 70% of fare is applicable')\n",
        "elif (gender=='F')and(age>=60):\n",
        "  print('sr.citizen, 50% of fare is applicable')\n",
        "elif (gender=='F')and(age<60):\n",
        "  print('normal citizen, 70% of fare is applicable')\n",
        "elif (gender=='M')and(age<60):\n",
        "  print('normal citizen, 100% of fare is applicable')\n",
        "\n"
      ],
      "metadata": {
        "colab": {
          "base_uri": "https://localhost:8080/"
        },
        "id": "uSjDU13RgwEZ",
        "outputId": "9467ad1f-892c-4cfc-eacb-c8c75df88ba1"
      },
      "execution_count": 2,
      "outputs": [
        {
          "output_type": "stream",
          "name": "stdout",
          "text": [
            "Enter the gender(F/M):F\n",
            "Enter the age of passenger:55\n",
            "normal citizen, 70% of fare is applicable\n"
          ]
        }
      ]
    },
    {
      "cell_type": "markdown",
      "source": [
        "3.\tCheck whether the given number is positive and divisible by 5 or not.  "
      ],
      "metadata": {
        "id": "0MPNyhEGjOSv"
      }
    },
    {
      "cell_type": "code",
      "source": [
        "num=int(input(\"Enter the number:\"))\n",
        "if num>0:\n",
        "  if(num%5==0):\n",
        "    print(\"Divisible by 5\")\n",
        "  else:\n",
        "    print(\"Not Divisible by 5\")\n",
        "else:\n",
        "  print(\"Given number is negative\")\n"
      ],
      "metadata": {
        "colab": {
          "base_uri": "https://localhost:8080/"
        },
        "id": "YmtdaCqQh0iV",
        "outputId": "9d70932a-ca2b-4a30-b5a8-f8310f6cd170"
      },
      "execution_count": 6,
      "outputs": [
        {
          "output_type": "stream",
          "name": "stdout",
          "text": [
            "Enter the number:25\n",
            "Divisible by 5\n"
          ]
        }
      ]
    },
    {
      "cell_type": "code",
      "source": [],
      "metadata": {
        "id": "8LjOCG5wh0x9"
      },
      "execution_count": null,
      "outputs": []
    },
    {
      "cell_type": "code",
      "source": [],
      "metadata": {
        "id": "OWL9Zy0bh1A8"
      },
      "execution_count": null,
      "outputs": []
    }
  ]
}